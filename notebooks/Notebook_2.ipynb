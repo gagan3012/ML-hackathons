{
  "nbformat": 4,
  "nbformat_minor": 0,
  "metadata": {
    "colab": {
      "name": "Notebook 2",
      "provenance": [],
      "collapsed_sections": [],
      "include_colab_link": true
    },
    "kernelspec": {
      "name": "python3",
      "display_name": "Python 3"
    },
    "accelerator": "GPU"
  },
  "cells": [
    {
      "cell_type": "markdown",
      "metadata": {
        "id": "view-in-github",
        "colab_type": "text"
      },
      "source": [
        "<a href=\"https://colab.research.google.com/github/gagan3012/ML-hackathons/blob/master/notebooks/Notebook_2.ipynb\" target=\"_parent\"><img src=\"https://colab.research.google.com/assets/colab-badge.svg\" alt=\"Open In Colab\"/></a>"
      ]
    },
    {
      "cell_type": "markdown",
      "metadata": {
        "id": "EKOTlwcmxmej"
      },
      "source": [
        "# GPT-2 Fine-Tuning Tutorial with PyTorch & Huggingface in Colab\n",
        "\n",
        "\n"
      ]
    },
    {
      "cell_type": "markdown",
      "metadata": {
        "id": "NKGBoVwuhM4H"
      },
      "source": [
        "This is a simplified script for fine-tuning GPT2 using Hugging Face's [Transformers library](https://huggingface.co/transformers/) and PyTorch.\n",
        "\n",
        "You should understand the basics of PyTorch and how a training loop works before getting started. [This official PyTorch tutorial](https://pytorch.org/tutorials/beginner/nn_tutorial.html) serves as an excellent introduction. Familiarity with the workings of GPT2 might be useful but isn't required. The code has been written for clarity and not re-use. I'd advise refactoring it for actual projects. I've liberally taken bits from [Chris McCormick's BERT fine-tuning tutorial](https://mccormickml.com/2019/07/22/BERT-fine-tuning/), [Ian Porter's GPT2 tutorial](https://snappishproductions.com/blog/2020/03/01/chapter-9.5-text-generation-with-gpt-2-and-only-pytorch.html.html) and the [Hugging Face Language model fine-tuning script](https://huggingface.co/transformers/v2.0.0/examples.html#language-model-fine-tuning) so full credit to them. Chris' code has pretty much provided the basis for this script - you should definitely check out his [blog](https://mccormickml.com/tutorials/).\n",
        "\n",
        "I should mention what the script doesn't cover:\n",
        "\n",
        "- Using the [Datasets](https://huggingface.co/nlp/) library to load in the dataset and setting up the training workflow, which looks to streamline things rather nicely.\n",
        "- [Accumulated gradients](https://medium.com/huggingface/training-larger-batches-practical-tips-on-1-gpu-multi-gpu-distributed-setups-ec88c3e51255) - this gives larger effective batch sizes than Colab allows (GPT2 is a large model, and anything more than a batch size of 2 would be enough to get a CUDA out of memory error on Colab).\n",
        "- [Freezing layers](https://github.com/huggingface/transformers/issues/1431). This is the process of only changing the parameters in selected layers, made famous by the [ULMFit](https://arxiv.org/abs/1801.06146) process.\n",
        "- [Using 'past'](https://huggingface.co/transformers/quickstart.html#using-the-past) when generating text. This takes in the previous state when generating successive items of text. I didn't need it.\n",
        "- [Tensor packing](https://snappishproductions.com/blog/2020/03/01/chapter-9.5-text-generation-with-gpt-2-and-only-pytorch.html.html). This is a neat way of fitting in as much training data in each batch. \n",
        "- [Hyperparameter search](https://discuss.huggingface.co/t/using-hyperparameter-search-in-trainer/785/10). I settled quickly on values that seemed to produce decent values, without checking if they were optimal."
      ]
    },
    {
      "cell_type": "markdown",
      "metadata": {
        "id": "Xf3Qw77SZGbS"
      },
      "source": [
        "# Setup"
      ]
    },
    {
      "cell_type": "code",
      "metadata": {
        "id": "0NmMdkZO8R6q",
        "colab": {
          "base_uri": "https://localhost:8080/"
        },
        "outputId": "2cedec74-7715-44fb-f26c-5265fa6aef61"
      },
      "source": [
        "!pip install transformers"
      ],
      "execution_count": 1,
      "outputs": [
        {
          "output_type": "stream",
          "text": [
            "Requirement already satisfied: transformers in /usr/local/lib/python3.7/dist-packages (4.7.0)\n",
            "Requirement already satisfied: sacremoses in /usr/local/lib/python3.7/dist-packages (from transformers) (0.0.45)\n",
            "Requirement already satisfied: regex!=2019.12.17 in /usr/local/lib/python3.7/dist-packages (from transformers) (2019.12.20)\n",
            "Requirement already satisfied: tqdm>=4.27 in /usr/local/lib/python3.7/dist-packages (from transformers) (4.41.1)\n",
            "Requirement already satisfied: tokenizers<0.11,>=0.10.1 in /usr/local/lib/python3.7/dist-packages (from transformers) (0.10.3)\n",
            "Requirement already satisfied: requests in /usr/local/lib/python3.7/dist-packages (from transformers) (2.23.0)\n",
            "Requirement already satisfied: numpy>=1.17 in /usr/local/lib/python3.7/dist-packages (from transformers) (1.19.5)\n",
            "Requirement already satisfied: importlib-metadata; python_version < \"3.8\" in /usr/local/lib/python3.7/dist-packages (from transformers) (4.5.0)\n",
            "Requirement already satisfied: packaging in /usr/local/lib/python3.7/dist-packages (from transformers) (20.9)\n",
            "Requirement already satisfied: huggingface-hub==0.0.8 in /usr/local/lib/python3.7/dist-packages (from transformers) (0.0.8)\n",
            "Requirement already satisfied: pyyaml in /usr/local/lib/python3.7/dist-packages (from transformers) (3.13)\n",
            "Requirement already satisfied: filelock in /usr/local/lib/python3.7/dist-packages (from transformers) (3.0.12)\n",
            "Requirement already satisfied: click in /usr/local/lib/python3.7/dist-packages (from sacremoses->transformers) (7.1.2)\n",
            "Requirement already satisfied: six in /usr/local/lib/python3.7/dist-packages (from sacremoses->transformers) (1.15.0)\n",
            "Requirement already satisfied: joblib in /usr/local/lib/python3.7/dist-packages (from sacremoses->transformers) (1.0.1)\n",
            "Requirement already satisfied: idna<3,>=2.5 in /usr/local/lib/python3.7/dist-packages (from requests->transformers) (2.10)\n",
            "Requirement already satisfied: certifi>=2017.4.17 in /usr/local/lib/python3.7/dist-packages (from requests->transformers) (2021.5.30)\n",
            "Requirement already satisfied: chardet<4,>=3.0.2 in /usr/local/lib/python3.7/dist-packages (from requests->transformers) (3.0.4)\n",
            "Requirement already satisfied: urllib3!=1.25.0,!=1.25.1,<1.26,>=1.21.1 in /usr/local/lib/python3.7/dist-packages (from requests->transformers) (1.24.3)\n",
            "Requirement already satisfied: typing-extensions>=3.6.4; python_version < \"3.8\" in /usr/local/lib/python3.7/dist-packages (from importlib-metadata; python_version < \"3.8\"->transformers) (3.7.4.3)\n",
            "Requirement already satisfied: zipp>=0.5 in /usr/local/lib/python3.7/dist-packages (from importlib-metadata; python_version < \"3.8\"->transformers) (3.4.1)\n",
            "Requirement already satisfied: pyparsing>=2.0.2 in /usr/local/lib/python3.7/dist-packages (from packaging->transformers) (2.4.7)\n"
          ],
          "name": "stdout"
        }
      ]
    },
    {
      "cell_type": "code",
      "metadata": {
        "id": "JCCeyhuDHdOu",
        "colab": {
          "base_uri": "https://localhost:8080/"
        },
        "outputId": "4352d7ad-63db-4891-eb9e-b7f5f5624cc4"
      },
      "source": [
        "import os\n",
        "import time\n",
        "import datetime\n",
        "from google.colab import drive\n",
        "\n",
        "import pandas as pd\n",
        "import seaborn as sns\n",
        "import numpy as np\n",
        "import random\n",
        "\n",
        "import matplotlib.pyplot as plt\n",
        "% matplotlib inline\n",
        "\n",
        "import torch\n",
        "from torch.utils.data import Dataset, DataLoader, random_split, RandomSampler, SequentialSampler\n",
        "torch.manual_seed(42)\n",
        "\n",
        "from transformers import GPT2LMHeadModel,  GPT2Tokenizer, GPT2Config, GPT2LMHeadModel\n",
        "from transformers import AdamW, get_linear_schedule_with_warmup\n",
        "\n",
        "import nltk\n",
        "nltk.download('punkt')"
      ],
      "execution_count": 2,
      "outputs": [
        {
          "output_type": "stream",
          "text": [
            "[nltk_data] Downloading package punkt to /root/nltk_data...\n",
            "[nltk_data]   Package punkt is already up-to-date!\n"
          ],
          "name": "stdout"
        },
        {
          "output_type": "execute_result",
          "data": {
            "text/plain": [
              "True"
            ]
          },
          "metadata": {
            "tags": []
          },
          "execution_count": 2
        }
      ]
    },
    {
      "cell_type": "code",
      "metadata": {
        "id": "satxtOn9CzgR",
        "colab": {
          "base_uri": "https://localhost:8080/"
        },
        "outputId": "29913730-a309-483a-80e5-ac5c166c0c20"
      },
      "source": [
        "!nvidia-smi"
      ],
      "execution_count": 3,
      "outputs": [
        {
          "output_type": "stream",
          "text": [
            "Mon Jun 21 06:28:30 2021       \n",
            "+-----------------------------------------------------------------------------+\n",
            "| NVIDIA-SMI 465.27       Driver Version: 460.32.03    CUDA Version: 11.2     |\n",
            "|-------------------------------+----------------------+----------------------+\n",
            "| GPU  Name        Persistence-M| Bus-Id        Disp.A | Volatile Uncorr. ECC |\n",
            "| Fan  Temp  Perf  Pwr:Usage/Cap|         Memory-Usage | GPU-Util  Compute M. |\n",
            "|                               |                      |               MIG M. |\n",
            "|===============================+======================+======================|\n",
            "|   0  Tesla T4            Off  | 00000000:00:04.0 Off |                    0 |\n",
            "| N/A   73C    P0    32W /  70W |      0MiB / 15109MiB |      0%      Default |\n",
            "|                               |                      |                  N/A |\n",
            "+-------------------------------+----------------------+----------------------+\n",
            "                                                                               \n",
            "+-----------------------------------------------------------------------------+\n",
            "| Processes:                                                                  |\n",
            "|  GPU   GI   CI        PID   Type   Process name                  GPU Memory |\n",
            "|        ID   ID                                                   Usage      |\n",
            "|=============================================================================|\n",
            "|  No running processes found                                                 |\n",
            "+-----------------------------------------------------------------------------+\n"
          ],
          "name": "stdout"
        }
      ]
    },
    {
      "cell_type": "markdown",
      "metadata": {
        "id": "ZfdCML6Parvv"
      },
      "source": [
        "# Create Training Set\n",
        "\n",
        "The data used to finetune the language model is a set of around 1000 DJ biographies, with the aim of generating them in the same general format and style.\n",
        "\n",
        "This data isn't public so if you want to use this script, you'll have to source your own training set."
      ]
    },
    {
      "cell_type": "code",
      "metadata": {
        "id": "ya3zsH0r-3JK",
        "colab": {
          "base_uri": "https://localhost:8080/",
          "height": 421
        },
        "outputId": "0b6d8cc3-03a0-48b0-aacf-20fd8b9c19ea"
      },
      "source": [
        "# load into a data frame\n",
        "df1 = pd.read_csv('https://raw.githubusercontent.com/adigoryl/Styled-Lyrics-Generator-GPT2/master/datasets/genius_lyrics_v2.csv',header=None)\n",
        "df1.columns = ['type','artist','year','album','track','lyrics']  \n",
        "df = df1.head(1000)\n",
        "df"
      ],
      "execution_count": 4,
      "outputs": [
        {
          "output_type": "execute_result",
          "data": {
            "text/html": [
              "<div>\n",
              "<style scoped>\n",
              "    .dataframe tbody tr th:only-of-type {\n",
              "        vertical-align: middle;\n",
              "    }\n",
              "\n",
              "    .dataframe tbody tr th {\n",
              "        vertical-align: top;\n",
              "    }\n",
              "\n",
              "    .dataframe thead th {\n",
              "        text-align: right;\n",
              "    }\n",
              "</style>\n",
              "<table border=\"1\" class=\"dataframe\">\n",
              "  <thead>\n",
              "    <tr style=\"text-align: right;\">\n",
              "      <th></th>\n",
              "      <th>type</th>\n",
              "      <th>artist</th>\n",
              "      <th>year</th>\n",
              "      <th>album</th>\n",
              "      <th>track</th>\n",
              "      <th>lyrics</th>\n",
              "    </tr>\n",
              "  </thead>\n",
              "  <tbody>\n",
              "    <tr>\n",
              "      <th>0</th>\n",
              "      <td>Pop</td>\n",
              "      <td>Justin Bieber</td>\n",
              "      <td>2015</td>\n",
              "      <td>Purpose</td>\n",
              "      <td>Love Yourself</td>\n",
              "      <td>For all the times that you rained on my parade...</td>\n",
              "    </tr>\n",
              "    <tr>\n",
              "      <th>1</th>\n",
              "      <td>Pop</td>\n",
              "      <td>Justin Bieber</td>\n",
              "      <td>2015</td>\n",
              "      <td>Purpose</td>\n",
              "      <td>Sorry</td>\n",
              "      <td>You gotta go and get angry at all of my honest...</td>\n",
              "    </tr>\n",
              "    <tr>\n",
              "      <th>2</th>\n",
              "      <td>Pop</td>\n",
              "      <td>Justin Bieber</td>\n",
              "      <td>2012</td>\n",
              "      <td>Believe</td>\n",
              "      <td>As Long As You Love Me</td>\n",
              "      <td>As long as you love me\\nAs long as you love me...</td>\n",
              "    </tr>\n",
              "    <tr>\n",
              "      <th>3</th>\n",
              "      <td>Pop</td>\n",
              "      <td>Justin Bieber</td>\n",
              "      <td>2015</td>\n",
              "      <td>Purpose</td>\n",
              "      <td>What Do You Mean?</td>\n",
              "      <td>What do you mean? Oh, oh\\nWhen you nod your he...</td>\n",
              "    </tr>\n",
              "    <tr>\n",
              "      <th>4</th>\n",
              "      <td>Pop</td>\n",
              "      <td>Justin Bieber</td>\n",
              "      <td>2010</td>\n",
              "      <td>My World 2.0</td>\n",
              "      <td>Baby</td>\n",
              "      <td>Oh, woah\\nOh, woah\\nOh, woah\\n\\nYou know you l...</td>\n",
              "    </tr>\n",
              "    <tr>\n",
              "      <th>...</th>\n",
              "      <td>...</td>\n",
              "      <td>...</td>\n",
              "      <td>...</td>\n",
              "      <td>...</td>\n",
              "      <td>...</td>\n",
              "      <td>...</td>\n",
              "    </tr>\n",
              "    <tr>\n",
              "      <th>995</th>\n",
              "      <td>Pop</td>\n",
              "      <td>Beyoncé</td>\n",
              "      <td>2013</td>\n",
              "      <td>BEYONCÉ</td>\n",
              "      <td>Heaven</td>\n",
              "      <td>I fought for you\\nThe hardest, it made me the ...</td>\n",
              "    </tr>\n",
              "    <tr>\n",
              "      <th>996</th>\n",
              "      <td>Pop</td>\n",
              "      <td>Beyoncé</td>\n",
              "      <td>2016</td>\n",
              "      <td>Lemonade</td>\n",
              "      <td>Daddy Lessons</td>\n",
              "      <td>Yee-haw\\nOoh\\nTexas, Texas (Ooh) Texas\\n\\nCame...</td>\n",
              "    </tr>\n",
              "    <tr>\n",
              "      <th>997</th>\n",
              "      <td>Pop</td>\n",
              "      <td>Beyoncé</td>\n",
              "      <td>2011</td>\n",
              "      <td>4</td>\n",
              "      <td>Countdown</td>\n",
              "      <td>Boy!\\n\\nOh, killing me softly and I'm still fa...</td>\n",
              "    </tr>\n",
              "    <tr>\n",
              "      <th>998</th>\n",
              "      <td>Pop</td>\n",
              "      <td>Beyoncé</td>\n",
              "      <td>2016</td>\n",
              "      <td>Lemonade</td>\n",
              "      <td>Forward</td>\n",
              "      <td>Forward\\nBest foot first just in case\\nWhen we...</td>\n",
              "    </tr>\n",
              "    <tr>\n",
              "      <th>999</th>\n",
              "      <td>Pop</td>\n",
              "      <td>Beyoncé</td>\n",
              "      <td>2003</td>\n",
              "      <td>Dangerously In Love</td>\n",
              "      <td>Crazy in Love</td>\n",
              "      <td>Yes! So crazy right now!\\nMost incredibly, it'...</td>\n",
              "    </tr>\n",
              "  </tbody>\n",
              "</table>\n",
              "<p>1000 rows × 6 columns</p>\n",
              "</div>"
            ],
            "text/plain": [
              "    type  ...                                             lyrics\n",
              "0    Pop  ...  For all the times that you rained on my parade...\n",
              "1    Pop  ...  You gotta go and get angry at all of my honest...\n",
              "2    Pop  ...  As long as you love me\\nAs long as you love me...\n",
              "3    Pop  ...  What do you mean? Oh, oh\\nWhen you nod your he...\n",
              "4    Pop  ...  Oh, woah\\nOh, woah\\nOh, woah\\n\\nYou know you l...\n",
              "..   ...  ...                                                ...\n",
              "995  Pop  ...  I fought for you\\nThe hardest, it made me the ...\n",
              "996  Pop  ...  Yee-haw\\nOoh\\nTexas, Texas (Ooh) Texas\\n\\nCame...\n",
              "997  Pop  ...  Boy!\\n\\nOh, killing me softly and I'm still fa...\n",
              "998  Pop  ...  Forward\\nBest foot first just in case\\nWhen we...\n",
              "999  Pop  ...  Yes! So crazy right now!\\nMost incredibly, it'...\n",
              "\n",
              "[1000 rows x 6 columns]"
            ]
          },
          "metadata": {
            "tags": []
          },
          "execution_count": 4
        }
      ]
    },
    {
      "cell_type": "code",
      "metadata": {
        "id": "_U3m6wr3Ahzt",
        "colab": {
          "base_uri": "https://localhost:8080/"
        },
        "outputId": "24ae8433-bb87-45f7-80e8-fcc9025eedb5"
      },
      "source": [
        "df.dropna(inplace=True) #remove NA values\n",
        "bios = df.lyrics.copy() #just use the main bio text in this example\n",
        "bios"
      ],
      "execution_count": 5,
      "outputs": [
        {
          "output_type": "stream",
          "text": [
            "/usr/local/lib/python3.7/dist-packages/ipykernel_launcher.py:1: SettingWithCopyWarning: \n",
            "A value is trying to be set on a copy of a slice from a DataFrame\n",
            "\n",
            "See the caveats in the documentation: https://pandas.pydata.org/pandas-docs/stable/user_guide/indexing.html#returning-a-view-versus-a-copy\n",
            "  \"\"\"Entry point for launching an IPython kernel.\n"
          ],
          "name": "stderr"
        },
        {
          "output_type": "execute_result",
          "data": {
            "text/plain": [
              "0      For all the times that you rained on my parade...\n",
              "1      You gotta go and get angry at all of my honest...\n",
              "2      As long as you love me\\nAs long as you love me...\n",
              "3      What do you mean? Oh, oh\\nWhen you nod your he...\n",
              "4      Oh, woah\\nOh, woah\\nOh, woah\\n\\nYou know you l...\n",
              "                             ...                        \n",
              "995    I fought for you\\nThe hardest, it made me the ...\n",
              "996    Yee-haw\\nOoh\\nTexas, Texas (Ooh) Texas\\n\\nCame...\n",
              "997    Boy!\\n\\nOh, killing me softly and I'm still fa...\n",
              "998    Forward\\nBest foot first just in case\\nWhen we...\n",
              "999    Yes! So crazy right now!\\nMost incredibly, it'...\n",
              "Name: lyrics, Length: 999, dtype: object"
            ]
          },
          "metadata": {
            "tags": []
          },
          "execution_count": 5
        }
      ]
    },
    {
      "cell_type": "markdown",
      "metadata": {
        "id": "hQ1oK0kXaV5p"
      },
      "source": [
        "We need to get an idea of how long our training documents are.\n",
        "\n",
        "I'm not going to use the same tokenizer as the GPT2 one, which is a [byte pair encoding tokenizer](https://blog.floydhub.com/tokenization-nlp/). Instead, I'm using a simple one just to get a rough understanding."
      ]
    },
    {
      "cell_type": "code",
      "metadata": {
        "id": "cKsH2sU0OCQA",
        "colab": {
          "base_uri": "https://localhost:8080/",
          "height": 337
        },
        "outputId": "f8fc7d8d-95a5-4236-bffd-0f25079e85a2"
      },
      "source": [
        "doc_lengths = []\n",
        "\n",
        "for bio in bios:\n",
        "\n",
        "    # get rough token count distribution\n",
        "    tokens = nltk.word_tokenize(bio)\n",
        "\n",
        "    doc_lengths.append(len(tokens))\n",
        "\n",
        "doc_lengths = np.array(doc_lengths)\n",
        "\n",
        "sns.distplot(doc_lengths)"
      ],
      "execution_count": 6,
      "outputs": [
        {
          "output_type": "stream",
          "text": [
            "/usr/local/lib/python3.7/dist-packages/seaborn/distributions.py:2557: FutureWarning: `distplot` is a deprecated function and will be removed in a future version. Please adapt your code to use either `displot` (a figure-level function with similar flexibility) or `histplot` (an axes-level function for histograms).\n",
            "  warnings.warn(msg, FutureWarning)\n"
          ],
          "name": "stderr"
        },
        {
          "output_type": "execute_result",
          "data": {
            "text/plain": [
              "<matplotlib.axes._subplots.AxesSubplot at 0x7f25065a7310>"
            ]
          },
          "metadata": {
            "tags": []
          },
          "execution_count": 6
        },
        {
          "output_type": "display_data",
          "data": {
            "image/png": "[encoded data removed]",
            "text/plain": [
              "<Figure size 432x288 with 1 Axes>"
            ]
          },
          "metadata": {
            "tags": [],
            "needs_background": "light"
          }
        }
      ]
    },
    {
      "cell_type": "code",
      "metadata": {
        "id": "u6P6bTItJEIj",
        "colab": {
          "base_uri": "https://localhost:8080/"
        },
        "outputId": "7a5f8acb-f481-4d19-c6ee-4f969c133c8a"
      },
      "source": [
        "# the max token length   \n",
        "len(doc_lengths[doc_lengths > 768])/len(doc_lengths)"
      ],
      "execution_count": 7,
      "outputs": [
        {
          "output_type": "execute_result",
          "data": {
            "text/plain": [
              "0.042042042042042045"
            ]
          },
          "metadata": {
            "tags": []
          },
          "execution_count": 7
        }
      ]
    },
    {
      "cell_type": "code",
      "metadata": {
        "id": "63t_69HjlwAj",
        "colab": {
          "base_uri": "https://localhost:8080/"
        },
        "outputId": "431eda9f-25d9-4625-a02f-af6cd33b5b9e"
      },
      "source": [
        "np.average(doc_lengths)"
      ],
      "execution_count": 8,
      "outputs": [
        {
          "output_type": "execute_result",
          "data": {
            "text/plain": [
              "424.55055055055055"
            ]
          },
          "metadata": {
            "tags": []
          },
          "execution_count": 8
        }
      ]
    },
    {
      "cell_type": "markdown",
      "metadata": {
        "id": "Tuq5bqdr4_a6"
      },
      "source": [
        "Even though these token counts won't match up to the BPE tokenizer's, I'm confident that most bios will be fit under the 768 embedding size limit for the small GPT2 model."
      ]
    },
    {
      "cell_type": "markdown",
      "metadata": {
        "id": "cMml12FJGjPW"
      },
      "source": [
        "# GPT2 Tokenizer"
      ]
    },
    {
      "cell_type": "markdown",
      "metadata": {
        "id": "ANJhbBwdxN-b"
      },
      "source": [
        "Although the defaults take care of this,I thought I'd show that you can specify some of the special tokens. "
      ]
    },
    {
      "cell_type": "code",
      "metadata": {
        "id": "Z474sSC6oe7A",
        "colab": {
          "base_uri": "https://localhost:8080/"
        },
        "outputId": "63fa7d0f-2b75-4813-b30f-84df822dbc70"
      },
      "source": [
        "# Load the GPT tokenizer.\n",
        "tokenizer = GPT2Tokenizer.from_pretrained('gpt2', bos_token='<|startoftext|>', eos_token='<|endoftext|>', pad_token='<|pad|>') #gpt2-medium\n"
      ],
      "execution_count": 9,
      "outputs": [
        {
          "output_type": "stream",
          "text": [
            "Special tokens have been added in the vocabulary, make sure the associated word embeddings are fine-tuned or trained.\n"
          ],
          "name": "stderr"
        }
      ]
    },
    {
      "cell_type": "code",
      "metadata": {
        "id": "sh0XKuDvnryn",
        "colab": {
          "base_uri": "https://localhost:8080/"
        },
        "outputId": "65076d6a-a6f1-44f5-decb-f367e00a301c"
      },
      "source": [
        "print(\"The max model length is {} for this model, although the actual embedding size for GPT small is 768\".format(tokenizer.model_max_length))\n",
        "print(\"The beginning of sequence token {} token has the id {}\".format(tokenizer.convert_ids_to_tokens(tokenizer.bos_token_id), tokenizer.bos_token_id))\n",
        "print(\"The end of sequence token {} has the id {}\".format(tokenizer.convert_ids_to_tokens(tokenizer.eos_token_id), tokenizer.eos_token_id))\n",
        "print(\"The padding token {} has the id {}\".format(tokenizer.convert_ids_to_tokens(tokenizer.pad_token_id), tokenizer.pad_token_id))"
      ],
      "execution_count": 10,
      "outputs": [
        {
          "output_type": "stream",
          "text": [
            "The max model length is 1024 for this model, although the actual embedding size for GPT small is 768\n",
            "The beginning of sequence token <|startoftext|> token has the id 50257\n",
            "The end of sequence token <|endoftext|> has the id 50256\n",
            "The padding token <|pad|> has the id 50258\n"
          ],
          "name": "stdout"
        }
      ]
    },
    {
      "cell_type": "markdown",
      "metadata": {
        "id": "ex5O1eV-Pfct"
      },
      "source": [
        "# PyTorch Datasets & Dataloaders\n"
      ]
    },
    {
      "cell_type": "markdown",
      "metadata": {
        "id": "3lgZoOYkxZfx"
      },
      "source": [
        "GPT2 is a large model. Increasing the batch size above 2 has lead to out of memory problems. This can be mitigated by accumulating the gradients but that is out of scope here."
      ]
    },
    {
      "cell_type": "code",
      "metadata": {
        "id": "scqrzmqhV__z"
      },
      "source": [
        "batch_size = 2"
      ],
      "execution_count": 11,
      "outputs": []
    },
    {
      "cell_type": "markdown",
      "metadata": {
        "id": "lqGMee7Isfpx"
      },
      "source": [
        "I'm using the standard PyTorch approach of loading data in using a [dataset class](https://pytorch.org/tutorials/beginner/data_loading_tutorial.html).\n",
        "\n",
        "I'm passing in the tokenizer as an argument but normally I would  instantiate it within the class."
      ]
    },
    {
      "cell_type": "code",
      "metadata": {
        "id": "U_XJVIetKN-h"
      },
      "source": [
        "class GPT2Dataset(Dataset):\n",
        "\n",
        "  def __init__(self, txt_list, tokenizer, gpt2_type=\"gpt2\", max_length=768):\n",
        "\n",
        "    self.tokenizer = tokenizer\n",
        "    self.input_ids = []\n",
        "    self.attn_masks = []\n",
        "\n",
        "    for txt in txt_list:\n",
        "\n",
        "      encodings_dict = tokenizer('<|startoftext|>'+ txt + '<|endoftext|>', truncation=True, max_length=max_length, padding=\"max_length\")\n",
        "\n",
        "      self.input_ids.append(torch.tensor(encodings_dict['input_ids']))\n",
        "      self.attn_masks.append(torch.tensor(encodings_dict['attention_mask']))\n",
        "    \n",
        "  def __len__(self):\n",
        "    return len(self.input_ids)\n",
        "\n",
        "  def __getitem__(self, idx):\n",
        "    return self.input_ids[idx], self.attn_masks[idx] "
      ],
      "execution_count": 12,
      "outputs": []
    },
    {
      "cell_type": "markdown",
      "metadata": {
        "id": "89Z7aYUgpWrd"
      },
      "source": [
        "To understand how I've used the tokenizer, it's worth reading [the docs](https://huggingface.co/transformers/main_classes/tokenizer.html). I've wrapped each bio in the bos and eos tokens.\n",
        "\n",
        "Every tensor passed to the model should be the same length.\n",
        "\n",
        "If the bio is shorter than 768 tokens, it will be padded to a length of 768 using the padding token. In addition, an attention mask will be returned that needs to be passed to the model to tell it to ignore the padding tokens. \n",
        "\n",
        "If the bio is longer than 768 tokens, it will be truncated without the eos_token. This isn't a problem."
      ]
    },
    {
      "cell_type": "code",
      "metadata": {
        "id": "Xza_O1_rD7yh",
        "colab": {
          "base_uri": "https://localhost:8080/"
        },
        "outputId": "60ad4b25-6fdd-42e3-8f1c-7221bf7ad934"
      },
      "source": [
        "dataset = GPT2Dataset(bios, tokenizer, max_length=768)\n",
        "\n",
        "# Split into training and validation sets\n",
        "train_size = int(0.9 * len(dataset))\n",
        "val_size = len(dataset) - train_size\n",
        "\n",
        "train_dataset, val_dataset = random_split(dataset, [train_size, val_size])\n",
        "\n",
        "print('{:>5,} training samples'.format(train_size))\n",
        "print('{:>5,} validation samples'.format(val_size))"
      ],
      "execution_count": 13,
      "outputs": [
        {
          "output_type": "stream",
          "text": [
            "  899 training samples\n",
            "  100 validation samples\n"
          ],
          "name": "stdout"
        }
      ]
    },
    {
      "cell_type": "code",
      "metadata": {
        "id": "x0WeP5PREUuy"
      },
      "source": [
        "# Create the DataLoaders for our training and validation datasets.\n",
        "# We'll take training samples in random order. \n",
        "train_dataloader = DataLoader(\n",
        "            train_dataset,  # The training samples.\n",
        "            sampler = RandomSampler(train_dataset), # Select batches randomly\n",
        "            batch_size = batch_size # Trains with this batch size.\n",
        "        )\n",
        "\n",
        "# For validation the order doesn't matter, so we'll just read them sequentially.\n",
        "validation_dataloader = DataLoader(\n",
        "            val_dataset, # The validation samples.\n",
        "            sampler = SequentialSampler(val_dataset), # Pull out batches sequentially.\n",
        "            batch_size = batch_size # Evaluate with this batch size.\n",
        "        )"
      ],
      "execution_count": 14,
      "outputs": []
    },
    {
      "cell_type": "markdown",
      "metadata": {
        "id": "D6TKgyUzPIQc"
      },
      "source": [
        "# Finetune GPT2 Language Model"
      ]
    },
    {
      "cell_type": "code",
      "metadata": {
        "id": "gFsCTp_mporB"
      },
      "source": [
        "# I'm not really doing anything with the config buheret\n",
        "configuration = GPT2Config.from_pretrained('gpt2', output_hidden_states=False)\n",
        "\n",
        "# instantiate the model\n",
        "model = GPT2LMHeadModel.from_pretrained(\"gpt2\", config=configuration)\n",
        "\n",
        "# this step is necessary because I've added some tokens (bos_token, etc) to the embeddings\n",
        "# otherwise the tokenizer and model tensors won't match up\n",
        "model.resize_token_embeddings(len(tokenizer))\n",
        "\n",
        "# Tell pytorch to run this model on the GPU.\n",
        "device = torch.device(\"cuda\")\n",
        "model.cuda()\n",
        "\n",
        "# Set the seed value all over the place to make this reproducible.\n",
        "seed_val = 42\n",
        "\n",
        "random.seed(seed_val)\n",
        "np.random.seed(seed_val)\n",
        "torch.manual_seed(seed_val)\n",
        "torch.cuda.manual_seed_all(seed_val)"
      ],
      "execution_count": 15,
      "outputs": []
    },
    {
      "cell_type": "code",
      "metadata": {
        "id": "pBEVY2PYSTXJ"
      },
      "source": [
        "# some parameters I cooked up that work reasonably well\n",
        "\n",
        "epochs = 5\n",
        "learning_rate = 5e-4\n",
        "warmup_steps = 1e2\n",
        "epsilon = 1e-8\n",
        "\n",
        "# this produces sample output every 100 steps\n",
        "sample_every = 100"
      ],
      "execution_count": 16,
      "outputs": []
    },
    {
      "cell_type": "code",
      "metadata": {
        "id": "GLs72DuMODJO"
      },
      "source": [
        "# Note: AdamW is a class from the huggingface library (as opposed to pytorch) \n",
        "optimizer = AdamW(model.parameters(),\n",
        "                  lr = learning_rate,\n",
        "                  eps = epsilon\n",
        "                )"
      ],
      "execution_count": 17,
      "outputs": []
    },
    {
      "cell_type": "code",
      "metadata": {
        "id": "-p0upAhhRiIx"
      },
      "source": [
        "# Total number of training steps is [number of batches] x [number of epochs]. \n",
        "# (Note that this is not the same as the number of training samples).\n",
        "total_steps = len(train_dataloader) * epochs\n",
        "\n",
        "# Create the learning rate scheduler.\n",
        "# This changes the learning rate as the training loop progresses\n",
        "scheduler = get_linear_schedule_with_warmup(optimizer, \n",
        "                                            num_warmup_steps = warmup_steps, \n",
        "                                            num_training_steps = total_steps)"
      ],
      "execution_count": 18,
      "outputs": []
    },
    {
      "cell_type": "code",
      "metadata": {
        "id": "gpt6tR83keZD"
      },
      "source": [
        "def format_time(elapsed):\n",
        "    return str(datetime.timedelta(seconds=int(round((elapsed)))))"
      ],
      "execution_count": 19,
      "outputs": []
    },
    {
      "cell_type": "code",
      "metadata": {
        "id": "vCPohrZ-CTWu",
        "colab": {
          "base_uri": "https://localhost:8080/"
        },
        "outputId": "26924e04-866b-4f10-8485-d40aba6aad61"
      },
      "source": [
        "total_t0 = time.time()\n",
        "\n",
        "training_stats = []\n",
        "\n",
        "model = model.to(device)\n",
        "\n",
        "for epoch_i in range(0, epochs):\n",
        "\n",
        "    # ========================================\n",
        "    #               Training\n",
        "    # ========================================\n",
        "\n",
        "    print(\"\")\n",
        "    print('======== Epoch {:} / {:} ========'.format(epoch_i + 1, epochs))\n",
        "    print('Training...')\n",
        "\n",
        "    t0 = time.time()\n",
        "\n",
        "    total_train_loss = 0\n",
        "\n",
        "    model.train()\n",
        "\n",
        "    for step, batch in enumerate(train_dataloader):\n",
        "\n",
        "        b_input_ids = batch[0].to(device)\n",
        "        b_labels = batch[0].to(device)\n",
        "        b_masks = batch[1].to(device)\n",
        "\n",
        "        model.zero_grad()        \n",
        "\n",
        "        outputs = model(  b_input_ids,\n",
        "                          labels=b_labels, \n",
        "                          attention_mask = b_masks,\n",
        "                          token_type_ids=None\n",
        "                        )\n",
        "\n",
        "        loss = outputs[0]  \n",
        "\n",
        "        batch_loss = loss.item()\n",
        "        total_train_loss += batch_loss\n",
        "\n",
        "        # Get sample every x batches.\n",
        "        if step % sample_every == 0 and not step == 0:\n",
        "\n",
        "            elapsed = format_time(time.time() - t0)\n",
        "            print('  Batch {:>5,}  of  {:>5,}. Loss: {:>5,}.   Elapsed: {:}.'.format(step, len(train_dataloader), batch_loss, elapsed))\n",
        "\n",
        "            model.eval()\n",
        "\n",
        "            sample_outputs = model.generate(\n",
        "                                    bos_token_id=random.randint(1,30000),\n",
        "                                    do_sample=True,   \n",
        "                                    top_k=50, \n",
        "                                    max_length = 200,\n",
        "                                    top_p=0.95, \n",
        "                                    num_return_sequences=1\n",
        "                                )\n",
        "            for i, sample_output in enumerate(sample_outputs):\n",
        "                  print(\"{}: {}\".format(i, tokenizer.decode(sample_output, skip_special_tokens=True)))\n",
        "            \n",
        "            model.train()\n",
        "\n",
        "        loss.backward()\n",
        "\n",
        "        optimizer.step()\n",
        "\n",
        "        scheduler.step()\n",
        "\n",
        "    # Calculate the average loss over all of the batches.\n",
        "    avg_train_loss = total_train_loss / len(train_dataloader)       \n",
        "    \n",
        "    # Measure how long this epoch took.\n",
        "    training_time = format_time(time.time() - t0)\n",
        "\n",
        "    print(\"\")\n",
        "    print(\"  Average training loss: {0:.2f}\".format(avg_train_loss))\n",
        "    print(\"  Training epoch took: {:}\".format(training_time))\n",
        "        \n",
        "    # ========================================\n",
        "    #               Validation\n",
        "    # ========================================\n",
        "\n",
        "    print(\"\")\n",
        "    print(\"Running Validation...\")\n",
        "\n",
        "    t0 = time.time()\n",
        "\n",
        "    model.eval()\n",
        "\n",
        "    total_eval_loss = 0\n",
        "    nb_eval_steps = 0\n",
        "\n",
        "    # Evaluate data for one epoch\n",
        "    for batch in validation_dataloader:\n",
        "        \n",
        "        b_input_ids = batch[0].to(device)\n",
        "        b_labels = batch[0].to(device)\n",
        "        b_masks = batch[1].to(device)\n",
        "        \n",
        "        with torch.no_grad():        \n",
        "\n",
        "            outputs  = model(b_input_ids, \n",
        "#                            token_type_ids=None, \n",
        "                             attention_mask = b_masks,\n",
        "                            labels=b_labels)\n",
        "          \n",
        "            loss = outputs[0]  \n",
        "            \n",
        "        batch_loss = loss.item()\n",
        "        total_eval_loss += batch_loss        \n",
        "\n",
        "    avg_val_loss = total_eval_loss / len(validation_dataloader)\n",
        "    \n",
        "    validation_time = format_time(time.time() - t0)    \n",
        "\n",
        "    print(\"  Validation Loss: {0:.2f}\".format(avg_val_loss))\n",
        "    print(\"  Validation took: {:}\".format(validation_time))\n",
        "\n",
        "    # Record all statistics from this epoch.\n",
        "    training_stats.append(\n",
        "        {\n",
        "            'epoch': epoch_i + 1,\n",
        "            'Training Loss': avg_train_loss,\n",
        "            'Valid. Loss': avg_val_loss,\n",
        "            'Training Time': training_time,\n",
        "            'Validation Time': validation_time\n",
        "        }\n",
        "    )\n",
        "\n",
        "print(\"\")\n",
        "print(\"Training complete!\")\n",
        "print(\"Total training took {:} (h:mm:ss)\".format(format_time(time.time()-total_t0)))"
      ],
      "execution_count": 20,
      "outputs": [
        {
          "output_type": "stream",
          "text": [
            "\n",
            "======== Epoch 1 / 5 ========\n",
            "Training...\n"
          ],
          "name": "stdout"
        },
        {
          "output_type": "stream",
          "text": [
            "Setting `pad_token_id` to `eos_token_id`:50256 for open-end generation.\n"
          ],
          "name": "stderr"
        },
        {
          "output_type": "stream",
          "text": [
            "  Batch   100  of    450. Loss: 2.029113531112671.   Elapsed: 0:00:58.\n",
            "0:  bipartisan\", where I live, where I\n",
            "\n",
            "And where I'm from, where I'm from, where I'm from\n",
            "And where I'm from\n",
            "\n",
            "Hate on that side\n",
            "And how much I hate you\n",
            "It feels like it always hurts\n",
            "Ooh so good\n",
            "And how much I hate you\n",
            "\n",
            "It feels like it always hurts\n",
            "Ooh so good\n",
            "And how much I hate you\n",
            "It feels like it always hurts\n",
            "Ooh so good\n",
            "And how much I hate you\n",
            "\n",
            "You\n",
            "I hate myself\n",
            "Cause so good\n",
            "Cause so bad\n",
            "\n",
            "And how much I hate you\n",
            "Cause so good\n",
            "\n",
            "Cause so bad\n",
            "Cause so hard\n",
            "I love myself\n",
            "Cause so good\n",
            "Cause so bad\n",
            "Cause so hard\n",
            "I love myself\n",
            "Cause so bad\n",
            "Cause so hard\n",
            "Cause so easy\n",
            "Cause so good\n",
            "Cause so easy\n",
            "\n",
            "Cause so easy\n",
            "Cause so hard\n",
            "\n"
          ],
          "name": "stdout"
        },
        {
          "output_type": "stream",
          "text": [
            "Setting `pad_token_id` to `eos_token_id`:50256 for open-end generation.\n"
          ],
          "name": "stderr"
        },
        {
          "output_type": "stream",
          "text": [
            "  Batch   200  of    450. Loss: 0.8680258989334106.   Elapsed: 0:01:57.\n",
            "0:  increasing\n",
            "\n",
            "Halo, now\n",
            "(If you want to know what I've been doing to you)\n",
            "\n",
            "Halo-ta-la, now\n",
            "\n",
            "You just had one more chance\n",
            "\n",
            "Halo-ta-la, now (Hey, no)\n",
            "Halo-ta-la, now (Hey, no)\n",
            "\n",
            "Halo-ta-la, now (Hey, no)\n",
            "\n"
          ],
          "name": "stdout"
        },
        {
          "output_type": "stream",
          "text": [
            "Setting `pad_token_id` to `eos_token_id`:50256 for open-end generation.\n"
          ],
          "name": "stderr"
        },
        {
          "output_type": "stream",
          "text": [
            "  Batch   300  of    450. Loss: 1.7209851741790771.   Elapsed: 0:02:55.\n",
            "0: dayAnd a thousand miles of rivers and stars and my own sky…\n",
            "\n",
            "We'll break out of your head and the stars are spinning around us\n",
            "Don't go through my head\"\n",
            "Oh I'll be the one you're always dreaming of\n",
            "To be the one who never goes out, so you can never find a way\n",
            "I'll be the one you always dream of\n",
            "To be the one you always dream of\n",
            "\n",
            "And all you have to do is give up\n",
            "And I'll be the one you always dream of\n",
            "To be the one you always dream of\n",
            "\n",
            "I will be the one you always dream of\n",
            "To be the one you always dream of\n",
            "\n",
            "(Like this post)\n",
            "\n",
            "Do you have one of those, huh\n",
            "Oh oh oh oh oh oh oh oh oh oh oh oh oh oh oh oh oh oh oh oh oh oh oh oh oh oh oh oh oh oh oh oh oh oh\n",
            "Oh baby, how are\n"
          ],
          "name": "stdout"
        },
        {
          "output_type": "stream",
          "text": [
            "Setting `pad_token_id` to `eos_token_id`:50256 for open-end generation.\n"
          ],
          "name": "stderr"
        },
        {
          "output_type": "stream",
          "text": [
            "  Batch   400  of    450. Loss: 1.0475828647613525.   Elapsed: 0:03:55.\n",
            "0:  HangI think you need me when you're hurting, just take it away\n",
            "Don't leave me alone\n",
            "Don't give you what you're worth\n",
            "Don't give you what you're worth\n",
            "Don't give you what you're worth\n",
            "Don't give you what you're worth\n",
            "Don't give you what you're worth\n",
            "Don't give you what you're worth\n",
            "Don't give you what you're worth\n",
            "Don't give you what you're worth\n",
            "Don't give you what you're worth\n",
            "Don't give you what you're worth\n",
            "Don't give you what you're worth\n",
            "Don't give you what you're worth\n",
            "\n",
            "Don't give you what you're worth\n",
            "Don't give you what you're worth\n",
            "Don't give you what you're worth\n",
            "\n",
            "  Average training loss: 2.08\n",
            "  Training epoch took: 0:04:25\n",
            "\n",
            "Running Validation...\n",
            "  Validation Loss: 1.22\n",
            "  Validation took: 0:00:10\n",
            "\n",
            "======== Epoch 2 / 5 ========\n",
            "Training...\n"
          ],
          "name": "stdout"
        },
        {
          "output_type": "stream",
          "text": [
            "Setting `pad_token_id` to `eos_token_id`:50256 for open-end generation.\n"
          ],
          "name": "stderr"
        },
        {
          "output_type": "stream",
          "text": [
            "  Batch   100  of    450. Loss: 1.4023469686508179.   Elapsed: 0:00:57.\n",
            "0:  foodsI don't know the world\n",
            "A lot of people say that we all\n",
            "Wish we'd never found\n",
            "A way we've found\n",
            "\n",
            "'Cause this is a mess\n",
            "'Cause everybody can forget about you\n",
            "\n",
            "'Cause I know we went crazy\n",
            "We had no choice\n",
            "\n",
            "\"Oh, ooh, you're gone\n",
            "Ah, it's so bittersweet\n",
            "It's so bittersweet\n",
            "It's so bittersweet\n",
            "Oh\n",
            "\"So, uh, now I gotta see\n",
            "\n",
            "And I know that I can't stop\n",
            "\n",
            "\"Oh, ooh, you're gone\n",
            "Ah, it's so bittersweet\n",
            "It's so bittersweet\n",
            "It's so bittersweet\n",
            "It's so bittersweet\n",
            "It's so bittersweet\n",
            "Oh\n",
            "\"Oh, ooh, you're gone\n",
            "Ah, it's so bittersweet\n",
            "It's so bittersweet\n",
            "Oh\n",
            "\n",
            "\"Oh, ooh, you're gone\n",
            "Ah, it's so\n"
          ],
          "name": "stdout"
        },
        {
          "output_type": "stream",
          "text": [
            "Setting `pad_token_id` to `eos_token_id`:50256 for open-end generation.\n"
          ],
          "name": "stderr"
        },
        {
          "output_type": "stream",
          "text": [
            "  Batch   200  of    450. Loss: 0.9119707345962524.   Elapsed: 0:01:57.\n",
            "0:  trailOh, that one was bad, but that one was alright\n",
            "I should've known better\n",
            "Oh, that one was bad\n",
            "Oh, that one was bad\n",
            "Oh, that one was bad\n",
            "\n",
            "Hey, look at me!\n",
            "I'm the one I've tried to break down\n",
            "You don’t have to worry that I’ll fall\n",
            "Look how hard you pushed me through\n",
            "Don’t have to worry that I’ll break down\n",
            "Don’t have to worry that I’ll break down\n",
            "Ohh, that one was good, but that one was better\n",
            "Ohh, that one was bad, but that one was better\n",
            "Ohh, that one was bad\n",
            "Ohh\n",
            "Ohh\n"
          ],
          "name": "stdout"
        },
        {
          "output_type": "stream",
          "text": [
            "Setting `pad_token_id` to `eos_token_id`:50256 for open-end generation.\n"
          ],
          "name": "stderr"
        },
        {
          "output_type": "stream",
          "text": [
            "  Batch   300  of    450. Loss: 1.8577890396118164.   Elapsed: 0:02:56.\n",
            "0: intendOh, yeah, yeah\n",
            "Yeah, yeah, yeah\n",
            "\n",
            "Yeah, yeah, yeah, yeah\n",
            "\n",
            "Yeah, yeah, yeah yeah\n",
            "\n",
            "Yeah, yeah, yeah yeah\n",
            "Yeah, yeah, yeah yeah\n",
            "Yeah, yeah, yeah yeah\n",
            "\n",
            "Yes, yeah, yeah, yeah yeah\n",
            "Yeah, yeah, yeah yeah\n",
            "Yeah, yeah, yeah yeah\n",
            "\n",
            "Yeah, yeah, yeah yeah\n",
            "Yeah, yeah, yeah yeah\n",
            "Yeah, yeah, yeah\n",
            "Yep, yeah, yeah yeah\n",
            "Yeah, yeah, yeah yeah\n",
            "Yeah, yeah, yeah yeah\n",
            "Yep, yeah, yeah yeah\n",
            "Yep, yeah, yeah yeah\n",
            "Yeah, yeah, yeah yeah\n",
            "\n",
            "Yes, yeah, yeah, yeah\n",
            "Yeah, yeah, yeah yeah\n",
            "Yeah, yeah, yeah yeah\n"
          ],
          "name": "stdout"
        },
        {
          "output_type": "stream",
          "text": [
            "Setting `pad_token_id` to `eos_token_id`:50256 for open-end generation.\n"
          ],
          "name": "stderr"
        },
        {
          "output_type": "stream",
          "text": [
            "  Batch   400  of    450. Loss: 1.6972118616104126.   Elapsed: 0:03:55.\n",
            "0:  surroundTired of being down on my knees with nothing to lose\n",
            "When your mind's on me, all that I wanna do is leave\n",
            "It's sad when it's lost, in this moment\n",
            "I love what you do to me, darling\n",
            "I don't know what I could have said, but I'm gonna leave this for a little\n",
            "\n",
            "Oh, and you know I don't really care what you do to me\n",
            "You know I love what you do to me, darling\n",
            "I don't know what I could have said, but I'm gonna leave this for a little\n",
            "\n",
            "Oh, and you know I don't really care what you do to me\n",
            "You know I love what you do to me, darling\n",
            "I don't know what I could have said, but I'm gonna leave this for a little\n",
            "\n",
            "Oh, and you know I don't really care what you do to me\n",
            "You know I love what you do to me, darling\n",
            "I don\n",
            "\n",
            "  Average training loss: 1.22\n",
            "  Training epoch took: 0:04:25\n",
            "\n",
            "Running Validation...\n",
            "  Validation Loss: 1.20\n",
            "  Validation took: 0:00:10\n",
            "\n",
            "======== Epoch 3 / 5 ========\n",
            "Training...\n"
          ],
          "name": "stdout"
        },
        {
          "output_type": "stream",
          "text": [
            "Setting `pad_token_id` to `eos_token_id`:50256 for open-end generation.\n"
          ],
          "name": "stderr"
        },
        {
          "output_type": "stream",
          "text": [
            "  Batch   100  of    450. Loss: 1.0745365619659424.   Elapsed: 0:00:58.\n",
            "0:  reflexA moment later a tear stream in through the rain\n",
            "Just as we were leaving\n",
            "We passed it off as nothing and a moment later we were\n",
            "Walking with someone like you\n",
            "Who makes you look down upon the sky and look up into the night?\n",
            "Just as we were leaving\n",
            "We passed it off as nothing and a moment later we were\n",
            "Walking with someone like you\n",
            "Who makes you look down upon the sky and look up into the night?\n",
            "Just as we were leaving\n",
            "\n",
            "There it is... there it is...\n",
            "\n",
            "Oh Lord, there it is...\n",
            "\n",
            "This is my home now, my home\n",
            "I'll never let you in it again\n",
            "There is no one else in this room\n",
            "Where the words are left out\n",
            "'Cause I’ve never been\n",
            "And I’m yours to call\n",
            "\n",
            "I'll never let you in it again\n",
            "There is no one else in this room\n",
            "Where the words are left out\n",
            "\n"
          ],
          "name": "stdout"
        },
        {
          "output_type": "stream",
          "text": [
            "Setting `pad_token_id` to `eos_token_id`:50256 for open-end generation.\n"
          ],
          "name": "stderr"
        },
        {
          "output_type": "stream",
          "text": [
            "  Batch   200  of    450. Loss: 1.2086268663406372.   Elapsed: 0:01:57.\n",
            "0:  displayI love the way you make me feel\n",
            "I love how you make me feel\n",
            "I love how you make me feel\n",
            "I love how you make me feel\n",
            "\n",
            "I love the way you make me feel\n",
            "I love the way you make me feel\n",
            "\n",
            "I love the way you make me feel\n",
            "I love the way you make me feel\n",
            "\n",
            "I love the way you make me feel\n",
            "I love the way you make me feel\n",
            "\n",
            "I love the way you make me feel\n",
            "I love the way you make me feel\n",
            "I love the way you make me feel\n",
            "\n",
            "I love the way you make me feel\n",
            "\n",
            "I love the way you make me feel\n",
            "I love the way you make me feel\n",
            "\n",
            "I love the way you make me feel\n",
            "I love the way you make me feel\n",
            "\n",
            "I love the way you make me feel\n",
            "I love the way you make me feel\n",
            "I love the way you make me feel\n",
            "I love the way you\n"
          ],
          "name": "stdout"
        },
        {
          "output_type": "stream",
          "text": [
            "Setting `pad_token_id` to `eos_token_id`:50256 for open-end generation.\n"
          ],
          "name": "stderr"
        },
        {
          "output_type": "stream",
          "text": [
            "  Batch   300  of    450. Loss: 2.3404998779296875.   Elapsed: 0:02:57.\n",
            "0:  pastorWe've been through a lot, yeah\n",
            "I've spent more of my life with you\n",
            "Like the rest of your kind and not afraid to say no to you, yeah\n",
            "You've been my baby, too\n",
            "\n",
            "Don't let you go, I'll take you there\n",
            "I'll take you there too (We'll take you there)\n",
            "I'll take you there too\n",
            "I'll take you there\n",
            "I will take you there\n",
            "\n",
            "No, I won't make you afraid\n",
            "You're a good girl, I'm strong and I can take it, yeah\n",
            "You've been my baby, too\n",
            "\n",
            "Don't let you go, I'll take you there\n",
            "I'll take you there\n",
            "I'll take you there\n",
            "I will take you there\n",
            "I will take you there\n",
            "I will take you there\n",
            "\n",
            "Don't let you go, I'll take you there\n",
            "I'll take you there\n",
            "I'll take you there\n",
            "I will take you there\n",
            "\n"
          ],
          "name": "stdout"
        },
        {
          "output_type": "stream",
          "text": [
            "Setting `pad_token_id` to `eos_token_id`:50256 for open-end generation.\n"
          ],
          "name": "stderr"
        },
        {
          "output_type": "stream",
          "text": [
            "  Batch   400  of    450. Loss: 1.4127885103225708.   Elapsed: 0:03:56.\n",
            "0:  illicitI like it when they say they want me now\n",
            "But I don't know what to do now\n",
            "So tell me, boy, what you gonna do?\n",
            "I've done too much\n",
            "And you've made too many mistakes\n",
            "And you've been so mean\n",
            "I'm so sorry\n",
            "\n",
            "Oh I got you feeling so different today\n",
            "I'm so sorry\n",
            "I got you feeling so different now\n",
            "I'm so sorry\n",
            "\n",
            "Oh I got you feeling so different today\n",
            "I'm so sorry\n",
            "I got you feeling so different today\n",
            "I'm so sorry\n",
            "\n",
            "I got you feeling so different today\n",
            "I'm so sorry\n",
            "I got you feeling so different today\n",
            "I'm so sorry\n",
            "I got you feeling so different today\n",
            "Oh, it's just a little different today\n",
            "Oh, it's just a little different\n",
            "\n",
            "Hey, I got it now, baby\n",
            "I got it right now\n",
            "\n",
            "I got you feeling so different now\n",
            "I'm so sorry\n",
            "\n",
            "\n",
            "  Average training loss: 1.13\n",
            "  Training epoch took: 0:04:26\n",
            "\n",
            "Running Validation...\n",
            "  Validation Loss: 1.20\n",
            "  Validation took: 0:00:10\n",
            "\n",
            "======== Epoch 4 / 5 ========\n",
            "Training...\n"
          ],
          "name": "stdout"
        },
        {
          "output_type": "stream",
          "text": [
            "Setting `pad_token_id` to `eos_token_id`:50256 for open-end generation.\n"
          ],
          "name": "stderr"
        },
        {
          "output_type": "stream",
          "text": [
            "  Batch   100  of    450. Loss: 1.3854124546051025.   Elapsed: 0:00:58.\n",
            "0:  LiberationI said to myself \"Oh, girl, this is stupid, you're so stupid\" (Oh no, no, no) I said I'ma make a toast\n",
            "But I never ever ever said anything, never ever ever said to me\n",
            "You know what I'm thinkin' right now?\n",
            "There ain't no words, no more words\n",
            "But you can say anything you wanna, you know what I mean\n",
            "I swear, it's already been said\n",
            "\n",
            "And I got a dream to make my dreams come true\n",
            "I wanna make my dreams come true\n",
            "I wanna make my dreams come true\n",
            "But girl, you just can't control, so you gotta have some\n",
            "So let's just say that I'll never give up (Let's just say that I'll never give up)\n",
            "\n",
            "So, say that you'll never take my love away\n",
            "\n",
            "And I got a dream to make my dreams come true\n",
            "I wanna make my dreams come true\n",
            "And I\n"
          ],
          "name": "stdout"
        },
        {
          "output_type": "stream",
          "text": [
            "Setting `pad_token_id` to `eos_token_id`:50256 for open-end generation.\n"
          ],
          "name": "stderr"
        },
        {
          "output_type": "stream",
          "text": [
            "  Batch   200  of    450. Loss: 0.935236394405365.   Elapsed: 0:01:57.\n",
            "0:  NamI'm gonna take it all\n",
            "You're beautiful but I'm flawed\n",
            "I'm gonna pull you out of me\n",
            "I don't want you in my life but I don't want you to be\n",
            "The one thing I love, like you are\n",
            "You're in my life but you're in my world\n",
            "You're never gonna disappear in my world\n",
            "\n",
            "I'm gonna take it all\n",
            "You're beautiful but I'm flawed\n",
            "I'm gonna pull you out of me\n",
            "I don't want you in my life but I don't want you to be\n",
            "The one thing I love, like you are\n",
            "You're in my life but you're in my world\n",
            "You're never gonna disappear in my world\n",
            "\n",
            "I'm gonna take it all\n",
            "You're beautiful but I'm flawed\n",
            "I'm gonna pull you out of me\n",
            "I don't want you in my life but I don't want you to be\n",
            "The one thing I love, like you are\n",
            "You're\n"
          ],
          "name": "stdout"
        },
        {
          "output_type": "stream",
          "text": [
            "Setting `pad_token_id` to `eos_token_id`:50256 for open-end generation.\n"
          ],
          "name": "stderr"
        },
        {
          "output_type": "stream",
          "text": [
            "  Batch   300  of    450. Loss: 1.1750648021697998.   Elapsed: 0:02:57.\n",
            "0: IONThe world belongs to me\n",
            "\n",
            "I'm a product of my own creation\n",
            "I'm the product of my own design\n",
            "I can make any choice that you want\n",
            "\n",
            "I'm a product of your love\n",
            "I'm the product of your persuasion\n",
            "I can make any choice that you want\n",
            "\n",
            "The way that you smile is a reflection of my true colors\n",
            "A reflection of me\n",
            "You and my world is what makes us free\n",
            "You and your love is the truth that has been shed\n",
            "\n",
            "We are the product of your love\n",
            "We are the product of your freedom\n",
            "We are the products of your love\n",
            "\n",
            "Let me lay down my life\n",
            "Let me show you how\n",
            "\n",
            "All that I do is to live\n",
            "Let me tell you how\n",
            "\n",
            "That's the way that you smile is a reflection of my true colors\n",
            "A reflection of me\n",
            "You and my world is what makes us free\n",
            "You and your love is the truth that has been shed\n",
            "\n",
            "\n"
          ],
          "name": "stdout"
        },
        {
          "output_type": "stream",
          "text": [
            "Setting `pad_token_id` to `eos_token_id`:50256 for open-end generation.\n"
          ],
          "name": "stderr"
        },
        {
          "output_type": "stream",
          "text": [
            "  Batch   400  of    450. Loss: 1.3809524774551392.   Elapsed: 0:03:56.\n",
            "0:  glimpseIt felt like daylight\n",
            "I walked up to you and took it all in my mind\n",
            "And there was nothing that I could say\n",
            "That it wouldn't sink in, no, you wouldn't leave\n",
            "No, you wouldn't stay\n",
            "No, you wouldn't stay\n",
            "Oh it's no good for you\n",
            "\n",
            "You make me question your intentions\n",
            "And you're the only one I care to call\n",
            "But if you're really that lonely, I bet it's not you\n",
            "You're the only one I care to call\n",
            "But if you're really that lonely, I bet it's not you\n",
            "\n",
            "It's no good for you\n",
            "\n",
            "You make me question your intentions\n",
            "And you're the only one I care to call\n",
            "But if you're really that lonely, I bet it's not you\n",
            "You're the only one I care to call\n",
            "But if you're really that lonely, I bet it's not you\n",
            "\n",
            "It's no good for you\n",
            "\n",
            "I\n",
            "\n",
            "  Average training loss: 1.05\n",
            "  Training epoch took: 0:04:26\n",
            "\n",
            "Running Validation...\n",
            "  Validation Loss: 1.21\n",
            "  Validation took: 0:00:10\n",
            "\n",
            "======== Epoch 5 / 5 ========\n",
            "Training...\n"
          ],
          "name": "stdout"
        },
        {
          "output_type": "stream",
          "text": [
            "Setting `pad_token_id` to `eos_token_id`:50256 for open-end generation.\n"
          ],
          "name": "stderr"
        },
        {
          "output_type": "stream",
          "text": [
            "  Batch   100  of    450. Loss: 0.7431923747062683.   Elapsed: 0:00:58.\n",
            "0:  LaureI've been away, and I need you there more\n",
            "You've made my bed aching\n",
            "And you're holding me tight, no, don't let me go, hey\n",
            "\n",
            "You need a little clarity, I'm in too deep\n",
            "You need to know we've got a lot in common\n",
            "So, baby, let's get down from this\n",
            "I'm feeling so obligated\n",
            "\n",
            "I'm so used to this life, feel this touch\n",
            "I don't wanna be here on your worst night\n",
            "\n",
            "I don't need you and I don't need you and I don't need you and I don't need you and I don't need you and I don't need you and I don't need you and I don't need you and I don't need you and I don't need you and I don't need you and I don't need you and I don't need you and I don't need you and I don't need you and I don't need you\n"
          ],
          "name": "stdout"
        },
        {
          "output_type": "stream",
          "text": [
            "Setting `pad_token_id` to `eos_token_id`:50256 for open-end generation.\n"
          ],
          "name": "stderr"
        },
        {
          "output_type": "stream",
          "text": [
            "  Batch   200  of    450. Loss: 0.8593940734863281.   Elapsed: 0:01:57.\n",
            "0: ismI met you a couple years ago\n",
            "In a café in the middle of town\n",
            "You said you liked being alone\n",
            "But I didn't\n",
            "\n",
            "And yet we made our way on the same old story\n",
            "And we've grown old together\n",
            "I've forgotten our chemistry\n",
            "And even though it's pretty fun we are still friends\n",
            "\n",
            "I'm not the only one in your circle\n",
            "I see things we can't seem to forget\n",
            "And I need you to keep me on the road\n",
            "I'd risk everything to get you close\n",
            "And if you don't want me\n",
            "Just say so\n",
            "It's only right, but you do what you need\n",
            "\n",
            "But there you are, still, still in love\n",
            "Still in love, still in love\n",
            "And there you are, still, still in love\n",
            "\n",
            "And I know that I've been through too much\n",
            "And maybe I'm alone\n",
            "So I hope you and I make this a little more than we've ever been before\n",
            "\n"
          ],
          "name": "stdout"
        },
        {
          "output_type": "stream",
          "text": [
            "Setting `pad_token_id` to `eos_token_id`:50256 for open-end generation.\n"
          ],
          "name": "stderr"
        },
        {
          "output_type": "stream",
          "text": [
            "  Batch   300  of    450. Loss: 0.8938676714897156.   Elapsed: 0:02:57.\n",
            "0: ounI'm taking too much time\n",
            "I think we don't have the time to waste\n",
            "Maybe it's time I get a little obsessive\n",
            "Maybe it's time I get a little fickle\n",
            "Maybe it's time I let it all get hard on myself\n",
            "Maybe it's time I get a little obsessive\n",
            "Maybe it's time I get a little fickle\n",
            "Maybe it's time I get a little fickle\n",
            "Maybe it's time I get a little fickle\n",
            "Maybe it's time I get a little fickle\n",
            "\n",
            "There’s room and I don’t know where to start\n",
            "I hope your story is one that gets across my heart\n",
            "Cause that’s what makes me who I am\n",
            "\n",
            "Ooh, I can’t wait another minute\n",
            "But at least we could get down to business\n",
            "I guess it’s time we could get a little obsessive\n",
            "Maybe it’s time I get a little fickle\n",
            "Maybe it\n"
          ],
          "name": "stdout"
        },
        {
          "output_type": "stream",
          "text": [
            "Setting `pad_token_id` to `eos_token_id`:50256 for open-end generation.\n"
          ],
          "name": "stderr"
        },
        {
          "output_type": "stream",
          "text": [
            "  Batch   400  of    450. Loss: 0.8278471231460571.   Elapsed: 0:03:56.\n",
            "0:  electionLamborghinis, Lamborghinis\n",
            "Lamborghinis, Lamborghinis\n",
            "\n",
            "Sessions, sedans, sedans\n",
            "Lamborghinis, Lamborghinis\n",
            "\n",
            "Mulsanne, mulsanne\n",
            "Sessions, sedans, sedans\n",
            "Lamborghinis, Lamborghinis\n",
            "\n",
            "Bikes on the side of the roadway\n",
            "Mulsanne, mulsanne\n",
            "Sessions, sedans, sedans\n",
            "\n",
            "(Catch 'em where you are)\n",
            "Sessions, sedans, sedans\n",
            "\n",
            "Lamborghinis, Lamborghinis\n",
            "Sessions, sedans, sedans\n",
            "\n",
            "Ooh, my, my\n",
            "\n",
            "You know I don’t ever see myself quite the same way\n",
            "\n",
            "Lamborghinis, Lamborghinis\n",
            "\n",
            "And I still love that Bugatti\n",
            "I still love that Bugatti\n",
            "But I still want a Lamborghini\n",
            "I always want a Lamborghini\n",
            "I always\n",
            "\n",
            "  Average training loss: 0.98\n",
            "  Training epoch took: 0:04:26\n",
            "\n",
            "Running Validation...\n",
            "  Validation Loss: 1.23\n",
            "  Validation took: 0:00:10\n",
            "\n",
            "Training complete!\n",
            "Total training took 0:22:56 (h:mm:ss)\n"
          ],
          "name": "stdout"
        }
      ]
    },
    {
      "cell_type": "markdown",
      "metadata": {
        "id": "VQTvJ1vRP7u4"
      },
      "source": [
        "Let's view the summary of the training process."
      ]
    },
    {
      "cell_type": "code",
      "metadata": {
        "id": "6O_NbXFGMukX",
        "colab": {
          "base_uri": "https://localhost:8080/",
          "height": 236
        },
        "outputId": "b1c90636-a2ae-4e60-d3f6-ab4a9f7edc8d"
      },
      "source": [
        "# Display floats with two decimal places.\n",
        "pd.set_option('precision', 2)\n",
        "\n",
        "# Create a DataFrame from our training statistics.\n",
        "df_stats = pd.DataFrame(data=training_stats)\n",
        "\n",
        "# Use the 'epoch' as the row index.\n",
        "df_stats = df_stats.set_index('epoch')\n",
        "\n",
        "# A hack to force the column headers to wrap.\n",
        "#df = df.style.set_table_styles([dict(selector=\"th\",props=[('max-width', '70px')])])\n",
        "\n",
        "# Display the table.\n",
        "df_stats"
      ],
      "execution_count": 21,
      "outputs": [
        {
          "output_type": "execute_result",
          "data": {
            "text/html": [
              "<div>\n",
              "<style scoped>\n",
              "    .dataframe tbody tr th:only-of-type {\n",
              "        vertical-align: middle;\n",
              "    }\n",
              "\n",
              "    .dataframe tbody tr th {\n",
              "        vertical-align: top;\n",
              "    }\n",
              "\n",
              "    .dataframe thead th {\n",
              "        text-align: right;\n",
              "    }\n",
              "</style>\n",
              "<table border=\"1\" class=\"dataframe\">\n",
              "  <thead>\n",
              "    <tr style=\"text-align: right;\">\n",
              "      <th></th>\n",
              "      <th>Training Loss</th>\n",
              "      <th>Valid. Loss</th>\n",
              "      <th>Training Time</th>\n",
              "      <th>Validation Time</th>\n",
              "    </tr>\n",
              "    <tr>\n",
              "      <th>epoch</th>\n",
              "      <th></th>\n",
              "      <th></th>\n",
              "      <th></th>\n",
              "      <th></th>\n",
              "    </tr>\n",
              "  </thead>\n",
              "  <tbody>\n",
              "    <tr>\n",
              "      <th>1</th>\n",
              "      <td>2.08</td>\n",
              "      <td>1.22</td>\n",
              "      <td>0:04:25</td>\n",
              "      <td>0:00:10</td>\n",
              "    </tr>\n",
              "    <tr>\n",
              "      <th>2</th>\n",
              "      <td>1.22</td>\n",
              "      <td>1.20</td>\n",
              "      <td>0:04:25</td>\n",
              "      <td>0:00:10</td>\n",
              "    </tr>\n",
              "    <tr>\n",
              "      <th>3</th>\n",
              "      <td>1.13</td>\n",
              "      <td>1.20</td>\n",
              "      <td>0:04:26</td>\n",
              "      <td>0:00:10</td>\n",
              "    </tr>\n",
              "    <tr>\n",
              "      <th>4</th>\n",
              "      <td>1.05</td>\n",
              "      <td>1.21</td>\n",
              "      <td>0:04:26</td>\n",
              "      <td>0:00:10</td>\n",
              "    </tr>\n",
              "    <tr>\n",
              "      <th>5</th>\n",
              "      <td>0.98</td>\n",
              "      <td>1.23</td>\n",
              "      <td>0:04:26</td>\n",
              "      <td>0:00:10</td>\n",
              "    </tr>\n",
              "  </tbody>\n",
              "</table>\n",
              "</div>"
            ],
            "text/plain": [
              "       Training Loss  Valid. Loss Training Time Validation Time\n",
              "epoch                                                          \n",
              "1               2.08         1.22       0:04:25         0:00:10\n",
              "2               1.22         1.20       0:04:25         0:00:10\n",
              "3               1.13         1.20       0:04:26         0:00:10\n",
              "4               1.05         1.21       0:04:26         0:00:10\n",
              "5               0.98         1.23       0:04:26         0:00:10"
            ]
          },
          "metadata": {
            "tags": []
          },
          "execution_count": 21
        }
      ]
    },
    {
      "cell_type": "code",
      "metadata": {
        "id": "68xreA9JAmG5",
        "colab": {
          "base_uri": "https://localhost:8080/",
          "height": 427
        },
        "outputId": "b322a88e-387d-44b3-c97f-348fd4c38468"
      },
      "source": [
        "# Use plot styling from seaborn.\n",
        "sns.set(style='darkgrid')\n",
        "\n",
        "# Increase the plot size and font size.\n",
        "sns.set(font_scale=1.5)\n",
        "plt.rcParams[\"figure.figsize\"] = (12,6)\n",
        "\n",
        "# Plot the learning curve.\n",
        "plt.plot(df_stats['Training Loss'], 'b-o', label=\"Training\")\n",
        "plt.plot(df_stats['Valid. Loss'], 'g-o', label=\"Validation\")\n",
        "\n",
        "# Label the plot.\n",
        "plt.title(\"Training & Validation Loss\")\n",
        "plt.xlabel(\"Epoch\")\n",
        "plt.ylabel(\"Loss\")\n",
        "plt.legend()\n",
        "plt.xticks([1, 2, 3, 4])\n",
        "\n",
        "plt.show()"
      ],
      "execution_count": 22,
      "outputs": [
        {
          "output_type": "display_data",
          "data": {
            "image/png": "[encoded data removed]",
            "text/plain": [
              "<Figure size 864x432 with 1 Axes>"
            ]
          },
          "metadata": {
            "tags": []
          }
        }
      ]
    },
    {
      "cell_type": "markdown",
      "metadata": {
        "id": "GfjYoa6WmkN6"
      },
      "source": [
        "# Display Model Info"
      ]
    },
    {
      "cell_type": "code",
      "metadata": {
        "id": "8PIiVlDYCtSq",
        "colab": {
          "base_uri": "https://localhost:8080/"
        },
        "outputId": "e9f13669-b910-44b3-92b1-e7112e25b770"
      },
      "source": [
        "# Get all of the model's parameters as a list of tuples.\n",
        "params = list(model.named_parameters())\n",
        "\n",
        "print('The GPT-2 model has {:} different named parameters.\\n'.format(len(params)))\n",
        "\n",
        "print('==== Embedding Layer ====\\n')\n",
        "\n",
        "for p in params[0:2]:\n",
        "    print(\"{:<55} {:>12}\".format(p[0], str(tuple(p[1].size()))))\n",
        "\n",
        "print('\\n==== First Transformer ====\\n')\n",
        "\n",
        "for p in params[2:14]:\n",
        "    print(\"{:<55} {:>12}\".format(p[0], str(tuple(p[1].size()))))\n",
        "\n",
        "print('\\n==== Output Layer ====\\n')\n",
        "\n",
        "for p in params[-2:]:\n",
        "    print(\"{:<55} {:>12}\".format(p[0], str(tuple(p[1].size()))))"
      ],
      "execution_count": 23,
      "outputs": [
        {
          "output_type": "stream",
          "text": [
            "The GPT-2 model has 148 different named parameters.\n",
            "\n",
            "==== Embedding Layer ====\n",
            "\n",
            "transformer.wte.weight                                  (50259, 768)\n",
            "transformer.wpe.weight                                   (1024, 768)\n",
            "\n",
            "==== First Transformer ====\n",
            "\n",
            "transformer.h.0.ln_1.weight                                   (768,)\n",
            "transformer.h.0.ln_1.bias                                     (768,)\n",
            "transformer.h.0.attn.c_attn.weight                       (768, 2304)\n",
            "transformer.h.0.attn.c_attn.bias                             (2304,)\n",
            "transformer.h.0.attn.c_proj.weight                        (768, 768)\n",
            "transformer.h.0.attn.c_proj.bias                              (768,)\n",
            "transformer.h.0.ln_2.weight                                   (768,)\n",
            "transformer.h.0.ln_2.bias                                     (768,)\n",
            "transformer.h.0.mlp.c_fc.weight                          (768, 3072)\n",
            "transformer.h.0.mlp.c_fc.bias                                (3072,)\n",
            "transformer.h.0.mlp.c_proj.weight                        (3072, 768)\n",
            "transformer.h.0.mlp.c_proj.bias                               (768,)\n",
            "\n",
            "==== Output Layer ====\n",
            "\n",
            "transformer.ln_f.weight                                       (768,)\n",
            "transformer.ln_f.bias                                         (768,)\n"
          ],
          "name": "stdout"
        }
      ]
    },
    {
      "cell_type": "markdown",
      "metadata": {
        "id": "q2079Qyn8Mt8"
      },
      "source": [
        "# Saving & Loading Fine-Tuned Model\n"
      ]
    },
    {
      "cell_type": "code",
      "metadata": {
        "id": "6ulTWaOr8QNY",
        "colab": {
          "base_uri": "https://localhost:8080/"
        },
        "outputId": "8dbebed9-2ec2-483c-f3b5-a0d9ee4ae5f4"
      },
      "source": [
        "# Saving best-practices: if you use defaults names for the model, you can reload it using from_pretrained()\n",
        "\n",
        "output_dir = './model_save/'\n",
        "\n",
        "# Create output directory if needed\n",
        "if not os.path.exists(output_dir):\n",
        "    os.makedirs(output_dir)\n",
        "\n",
        "print(\"Saving model to %s\" % output_dir)\n",
        "\n",
        "# Save a trained model, configuration and tokenizer using `save_pretrained()`.\n",
        "# They can then be reloaded using `from_pretrained()`\n",
        "model_to_save = model.module if hasattr(model, 'module') else model  # Take care of distributed/parallel training\n",
        "model_to_save.save_pretrained(output_dir)\n",
        "tokenizer.save_pretrained(output_dir)\n",
        "\n",
        "# Good practice: save your training arguments together with the trained model\n",
        "# torch.save(args, os.path.join(output_dir, 'training_args.bin'))\n"
      ],
      "execution_count": 24,
      "outputs": [
        {
          "output_type": "stream",
          "text": [
            "Saving model to ./model_save/\n"
          ],
          "name": "stdout"
        },
        {
          "output_type": "execute_result",
          "data": {
            "text/plain": [
              "('./model_save/tokenizer_config.json',\n",
              " './model_save/special_tokens_map.json',\n",
              " './model_save/vocab.json',\n",
              " './model_save/merges.txt',\n",
              " './model_save/added_tokens.json')"
            ]
          },
          "metadata": {
            "tags": []
          },
          "execution_count": 24
        }
      ]
    },
    {
      "cell_type": "code",
      "metadata": {
        "id": "mqMzI3VTCZo5",
        "colab": {
          "base_uri": "https://localhost:8080/"
        },
        "outputId": "529df7d2-e883-4372-b8dd-b49cd6071dc2"
      },
      "source": [
        "!ls -l --block-size=K ./model_save/"
      ],
      "execution_count": 25,
      "outputs": [
        {
          "output_type": "stream",
          "text": [
            "total 499792K\n",
            "-rw-r--r-- 1 root root      1K Jun 21 06:52 added_tokens.json\n",
            "-rw-r--r-- 1 root root      1K Jun 21 06:52 config.json\n",
            "-rw-r--r-- 1 root root    446K Jun 21 06:52 merges.txt\n",
            "-rw-r--r-- 1 root root 498448K Jun 21 06:52 pytorch_model.bin\n",
            "-rw-r--r-- 1 root root      1K Jun 21 06:52 special_tokens_map.json\n",
            "-rw-r--r-- 1 root root      1K Jun 21 06:52 tokenizer_config.json\n",
            "-rw-r--r-- 1 root root    878K Jun 21 06:52 vocab.json\n"
          ],
          "name": "stdout"
        }
      ]
    },
    {
      "cell_type": "code",
      "metadata": {
        "id": "-WUFUIQ8Cu8D",
        "colab": {
          "base_uri": "https://localhost:8080/"
        },
        "outputId": "5d59778c-f06e-4106-c84e-6f3c6c324d19"
      },
      "source": [
        "!ls -l --block-size=M ./model_save/pytorch_model.bin"
      ],
      "execution_count": 26,
      "outputs": [
        {
          "output_type": "stream",
          "text": [
            "-rw-r--r-- 1 root root 487M Jun 21 06:52 ./model_save/pytorch_model.bin\n"
          ],
          "name": "stdout"
        }
      ]
    },
    {
      "cell_type": "markdown",
      "metadata": {
        "id": "ZLf6rbRglYhQ"
      },
      "source": [
        "# Generate Text"
      ]
    },
    {
      "cell_type": "code",
      "metadata": {
        "id": "v4XhewaV93-_",
        "colab": {
          "base_uri": "https://localhost:8080/"
        },
        "outputId": "de501224-bd24-44e6-87fc-09094e466788"
      },
      "source": [
        "model.eval()\n",
        "\n",
        "prompt = \"<|startoftext|>\"\n",
        "\n",
        "generated = torch.tensor(tokenizer.encode(prompt)).unsqueeze(0)\n",
        "generated = generated.to(device)\n",
        "\n",
        "print(generated)\n",
        "\n",
        "sample_outputs = model.generate(\n",
        "                                generated, \n",
        "                                #bos_token_id=random.randint(1,30000),\n",
        "                                do_sample=True,   \n",
        "                                top_k=50, \n",
        "                                max_length = 300,\n",
        "                                top_p=0.95, \n",
        "                                num_return_sequences=1\n",
        "                                )\n",
        "\n",
        "for i, sample_output in enumerate(sample_outputs):\n",
        "  print(\"{}: {}\\n\\n\".format(i, tokenizer.decode(sample_output, skip_special_tokens=True)))"
      ],
      "execution_count": 28,
      "outputs": [
        {
          "output_type": "stream",
          "text": [
            "Setting `pad_token_id` to `eos_token_id`:50256 for open-end generation.\n"
          ],
          "name": "stderr"
        },
        {
          "output_type": "stream",
          "text": [
            "tensor([[50257]], device='cuda:0')\n",
            "0: The night's the last of me, it was a life changing night\n",
            "I woke up to the taste of her perfume in my face\n",
            "I spent my last breath taking deep breath\n",
            "She was the one to call, 'cause her name on the credits\n",
            "She gave me back a world I wouldn't change\n",
            "Even her friends were saying the least\n",
            "How we used to laugh when I'm in the clouds\n",
            "\n",
            "She wasn't my baby, not ever\n",
            "Even when she was my lover\n",
            "She was the only thing I wanted\n",
            "I'd stand by her side\n",
            "In the rain, the stars came alive\n",
            "In the waves and the silence\n",
            "It was the summer air\n",
            "It was the night that I was dreaming about\n",
            "\n",
            "Her body language's whisper\n",
            "Shakin', whisper, whisper\n",
            "She said, \"Never, never, never\n",
            "Even when we're together\n",
            "Never, never\n",
            "\"Oh,\" the night turned into a day\n",
            "And the nights turned into days\n",
            "\n",
            "It was the summer air\n",
            "It was the night that I was dreaming about\n",
            "(It was the summer air)\n",
            "It was the night that I was dreaming about\n",
            "\n",
            "She wasn't my baby, not ever\n",
            "Even when she was my lover\n",
            "She was the only thing I wanted\n",
            "I'd stand by her side\n",
            "In the rain, the stars came alive\n",
            "In the waves and the silence\n",
            "It was the summer air\n",
            "It was the night that I was dreaming about\n",
            "\n",
            "It\n",
            "\n",
            "\n"
          ],
          "name": "stdout"
        }
      ]
    }
  ]
}